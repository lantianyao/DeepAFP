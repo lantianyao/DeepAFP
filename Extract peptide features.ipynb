{
 "cells": [
  {
   "cell_type": "markdown",
   "id": "72aebd07",
   "metadata": {},
   "source": [
    "## This is a quick tutorial that tells you how to extract peptide features, including Binary profile, BLOSUM62 and Z-scale"
   ]
  },
  {
   "cell_type": "markdown",
   "id": "e8b9d8f2",
   "metadata": {},
   "source": [
    "### Import the required packages "
   ]
  },
  {
   "cell_type": "code",
   "execution_count": 1,
   "id": "054b0c25",
   "metadata": {},
   "outputs": [],
   "source": [
    "import numpy as np\n",
    "from PeptideFeature.BINARY import *\n",
    "from PeptideFeature.BLOSUM62 import *\n",
    "from PeptideFeature.ZSCALE import *"
   ]
  },
  {
   "cell_type": "code",
   "execution_count": 4,
   "id": "ebdf790e",
   "metadata": {},
   "outputs": [],
   "source": [
    "def feature_generator(file_path,temp_file_path):\n",
    "    count = 0\n",
    "    f = open(file_path, 'r', encoding='utf-8')\n",
    "    fasta_list = np.array(f.readlines())\n",
    "    \n",
    "    zsl = np.zeros((int((len(fasta_list)/2)),100,5))\n",
    "    blo = np.zeros((int((len(fasta_list)/2)),100,20))\n",
    "    binary = np.zeros((int((len(fasta_list)/2)),100,20))\n",
    "    for flag in range(0, len(fasta_list), 2):\n",
    "        fasta_str = [[fasta_list[flag].strip('\\n').strip(), fasta_list[flag + 1].strip('\\n').strip()]]\n",
    "        \n",
    "        bin_output = BINARY(fasta_str)\n",
    "        blo_output = BLOSUM62(fasta_str)\n",
    "        zsl_output = ZSCALE(fasta_str)\n",
    "        feature_id = bin_output[1][0].split('>')[1]\n",
    "        bin_output[1].remove(bin_output[1][0])\n",
    "        blo_output[1].remove(blo_output[1][0])\n",
    "        zsl_output[1].remove(zsl_output[1][0])\n",
    "\n",
    "        aa_count = 0\n",
    "        for i in range(0, len(bin_output[1]), 20):\n",
    "            temp = bin_output[1][i:i + 20]\n",
    "            binary[count][aa_count] = temp\n",
    "            aa_count = aa_count+1\n",
    "        \n",
    "            \n",
    "        aa_count = 0    \n",
    "        for i in range(0, len(blo_output[1]), 20):\n",
    "            temp = blo_output[1][i:i + 20]\n",
    "            blo[count][aa_count] = temp\n",
    "            aa_count = aa_count+1\n",
    "            \n",
    "        aa_count = 0\n",
    "        for i in range(0, len(zsl_output[1]), 5):\n",
    "            temp = zsl_output[1][i:i + 5]\n",
    "            zsl[count][aa_count] = temp\n",
    "            aa_count = aa_count+1            \n",
    "        count = count +1\n",
    "    np.save(temp_file_path+\"_bin\", binary)\n",
    "    np.save(temp_file_path+\"_blo\", blo)\n",
    "    np.save(temp_file_path+\"_zsl\", zsl)"
   ]
  },
  {
   "cell_type": "markdown",
   "id": "d03adcba",
   "metadata": {},
   "source": [
    "### Generate features"
   ]
  },
  {
   "cell_type": "code",
   "execution_count": 6,
   "id": "21053688",
   "metadata": {},
   "outputs": [],
   "source": [
    "feature_generator(\"dataset/sequence/DeepAFP-main-train.fasta\",\"dataset/feature/DeepAFP-main-train\")\n",
    "feature_generator(\"dataset/sequence/DeepAFP-main-test.fasta\",\"dataset/feature/DeepAFP-main-test\")"
   ]
  },
  {
   "cell_type": "markdown",
   "id": "5d697738",
   "metadata": {},
   "source": [
    "### Load features"
   ]
  },
  {
   "cell_type": "code",
   "execution_count": 7,
   "id": "e50f0785",
   "metadata": {},
   "outputs": [],
   "source": [
    "train_bin = np.load(\"dataset/feature/DeepAFP-main-train_bin.npy\",allow_pickle=True)\n",
    "train_blo = np.load(\"dataset/feature/DeepAFP-main-train_blo.npy\",allow_pickle=True)\n",
    "train_zsl = np.load(\"dataset/feature/DeepAFP-main-train_zsl.npy\",allow_pickle=True)\n",
    "\n",
    "test_bin = np.load(\"dataset/feature/DeepAFP-main-test_bin.npy\",allow_pickle=True)\n",
    "test_blo = np.load(\"dataset/feature/DeepAFP-main-test_blo.npy\",allow_pickle=True)\n",
    "test_zsl = np.load(\"dataset/feature/DeepAFP-main-test_zsl.npy\",allow_pickle=True)"
   ]
  },
  {
   "cell_type": "code",
   "execution_count": 8,
   "id": "8afddfb6",
   "metadata": {},
   "outputs": [
    {
     "data": {
      "text/plain": [
       "array([[[0., 0., 0., ..., 0., 0., 0.],\n",
       "        [0., 1., 0., ..., 0., 0., 0.],\n",
       "        [0., 0., 0., ..., 0., 0., 0.],\n",
       "        ...,\n",
       "        [0., 0., 0., ..., 0., 0., 0.],\n",
       "        [0., 0., 0., ..., 0., 0., 0.],\n",
       "        [0., 0., 0., ..., 0., 0., 0.]],\n",
       "\n",
       "       [[0., 0., 0., ..., 0., 0., 0.],\n",
       "        [0., 1., 0., ..., 0., 0., 0.],\n",
       "        [0., 0., 0., ..., 0., 0., 0.],\n",
       "        ...,\n",
       "        [0., 0., 0., ..., 0., 0., 0.],\n",
       "        [0., 0., 0., ..., 0., 0., 0.],\n",
       "        [0., 0., 0., ..., 0., 0., 0.]],\n",
       "\n",
       "       [[0., 0., 0., ..., 0., 0., 0.],\n",
       "        [0., 1., 0., ..., 0., 0., 0.],\n",
       "        [0., 1., 0., ..., 0., 0., 0.],\n",
       "        ...,\n",
       "        [0., 0., 0., ..., 0., 0., 0.],\n",
       "        [0., 0., 0., ..., 0., 0., 0.],\n",
       "        [0., 0., 0., ..., 0., 0., 0.]],\n",
       "\n",
       "       ...,\n",
       "\n",
       "       [[0., 0., 0., ..., 0., 0., 0.],\n",
       "        [0., 0., 0., ..., 0., 0., 0.],\n",
       "        [0., 0., 0., ..., 0., 0., 0.],\n",
       "        ...,\n",
       "        [0., 0., 0., ..., 0., 0., 0.],\n",
       "        [0., 0., 0., ..., 0., 0., 0.],\n",
       "        [0., 0., 0., ..., 0., 0., 0.]],\n",
       "\n",
       "       [[0., 0., 0., ..., 0., 0., 0.],\n",
       "        [0., 0., 1., ..., 0., 0., 0.],\n",
       "        [0., 0., 0., ..., 0., 0., 0.],\n",
       "        ...,\n",
       "        [0., 0., 0., ..., 0., 0., 0.],\n",
       "        [0., 0., 0., ..., 0., 0., 0.],\n",
       "        [0., 0., 0., ..., 0., 0., 0.]],\n",
       "\n",
       "       [[0., 0., 0., ..., 0., 0., 0.],\n",
       "        [0., 0., 0., ..., 0., 0., 0.],\n",
       "        [0., 0., 0., ..., 0., 0., 0.],\n",
       "        ...,\n",
       "        [0., 0., 0., ..., 0., 0., 0.],\n",
       "        [0., 0., 0., ..., 0., 0., 0.],\n",
       "        [0., 0., 0., ..., 0., 0., 0.]]])"
      ]
     },
     "execution_count": 8,
     "metadata": {},
     "output_type": "execute_result"
    }
   ],
   "source": [
    "train_bin"
   ]
  }
 ],
 "metadata": {
  "kernelspec": {
   "display_name": "Python 3 (ipykernel)",
   "language": "python",
   "name": "python3"
  },
  "language_info": {
   "codemirror_mode": {
    "name": "ipython",
    "version": 3
   },
   "file_extension": ".py",
   "mimetype": "text/x-python",
   "name": "python",
   "nbconvert_exporter": "python",
   "pygments_lexer": "ipython3",
   "version": "3.7.12"
  }
 },
 "nbformat": 4,
 "nbformat_minor": 5
}
