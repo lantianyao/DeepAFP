{
 "cells": [
  {
   "cell_type": "markdown",
   "id": "616a2d88",
   "metadata": {},
   "source": [
    "## This is a quick tutorial that tells you how to use DeepAFP to predict given peptides"
   ]
  },
  {
   "cell_type": "markdown",
   "id": "dd6497f0",
   "metadata": {},
   "source": [
    "### Import the required packages"
   ]
  },
  {
   "cell_type": "code",
   "execution_count": 4,
   "id": "dcd0d094",
   "metadata": {},
   "outputs": [],
   "source": [
    "import numpy as np\n",
    "import pandas as pd\n",
    "from tensorflow.keras.models import Model, load_model\n",
    "import random\n",
    "import os, time, argparse"
   ]
  },
  {
   "cell_type": "markdown",
   "id": "ffe4a761",
   "metadata": {},
   "source": [
    "### Import the peptide features, including Binary profile, BLOSUM62, Z-scale and Bert encodings"
   ]
  },
  {
   "cell_type": "code",
   "execution_count": 7,
   "id": "315866dd",
   "metadata": {},
   "outputs": [],
   "source": [
    "test_bert = np.load('/home/yaolt/pythoncode/AFP/data/feature/dataset3-test.npy', allow_pickle=True)\n",
    "test_bin = np.load('/home/yaolt/pythoncode/AFP/data/feature/dataset3-test_bin.npy', allow_pickle=True)\n",
    "test_blo = np.load('/home/yaolt/pythoncode/AFP/data/feature/dataset3-test_blo.npy', allow_pickle=True)\n",
    "test_zsl = np.load('/home/yaolt/pythoncode/AFP/data/feature/dataset3-test_zsl.npy', allow_pickle=True)\n",
    "test_aa_fea = np.concatenate((test_bin,test_blo,test_zsl),axis=2)"
   ]
  },
  {
   "cell_type": "markdown",
   "id": "66782d77",
   "metadata": {},
   "source": [
    "### Import the models"
   ]
  },
  {
   "cell_type": "code",
   "execution_count": 8,
   "id": "470801db",
   "metadata": {},
   "outputs": [],
   "source": [
    "model = load_model(\"/home/yaolt/pythoncode/AFP/MLmodel/dataset3/multiview_aafeature_bert.h5\")"
   ]
  },
  {
   "cell_type": "markdown",
   "id": "09999ae1",
   "metadata": {},
   "source": [
    "###  Output prediction probability"
   ]
  },
  {
   "cell_type": "code",
   "execution_count": 9,
   "id": "c778bbe4",
   "metadata": {},
   "outputs": [
    {
     "data": {
      "text/plain": [
       "array([[9.8086137e-01, 1.9138630e-02],\n",
       "       [2.4030061e-07, 9.9999976e-01],\n",
       "       [9.9999595e-01, 4.0271284e-06],\n",
       "       ...,\n",
       "       [1.4785981e-07, 9.9999988e-01],\n",
       "       [1.0000000e+00, 3.4970906e-09],\n",
       "       [9.7347409e-01, 2.6525958e-02]], dtype=float32)"
      ]
     },
     "execution_count": 9,
     "metadata": {},
     "output_type": "execute_result"
    }
   ],
   "source": [
    "y_prob = model.predict([test_bert,test_aa_fea])\n",
    "y_prob"
   ]
  },
  {
   "cell_type": "code",
   "execution_count": null,
   "id": "5658a300",
   "metadata": {},
   "outputs": [],
   "source": []
  }
 ],
 "metadata": {
  "kernelspec": {
   "display_name": "Python [conda env:AMPBert]",
   "language": "python",
   "name": "conda-env-AMPBert-py"
  },
  "language_info": {
   "codemirror_mode": {
    "name": "ipython",
    "version": 3
   },
   "file_extension": ".py",
   "mimetype": "text/x-python",
   "name": "python",
   "nbconvert_exporter": "python",
   "pygments_lexer": "ipython3",
   "version": "3.6.13"
  }
 },
 "nbformat": 4,
 "nbformat_minor": 5
}
